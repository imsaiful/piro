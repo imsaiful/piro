{
 "cells": [
  {
   "cell_type": "code",
   "execution_count": null,
   "metadata": {},
   "outputs": [],
   "source": [
    "import requests\n",
    "from bs4 import BeautifulSoup\n",
    "import dateparser\n",
    "from datetime import datetime, timedelta\n",
    "print(\"script\")\n",
    "url = 'https://www.ndtv.com'\n",
    "try:\n",
    "    resp = requests.get(url)\n",
    "    print(type(resp))\n",
    "except:\n",
    "    print(\"error\")\n",
    " \n",
    "soup=BeautifulSoup(resp.text, 'html.parser')\n",
    "\n",
    "i = 1\n",
    "data = \"\"\n",
    "da = []\n",
    "d1 = []\n",
    "href = []\n",
    "date = []\n",
    "d = datetime.now() - timedelta(1)\n",
    "for x in soup.find_all('a'):\n",
    "\n",
    "    try:\n",
    "        n = x.text\n",
    "        n2 = x.get('href')\n",
    "        if (len(n) > 60):\n",
    "            d1.append(n)\n",
    "            href.append(n2)\n",
    "            resp = requests.get(n2)\n",
    "            soup2 = BeautifulSoup(resp.text, 'html.parser')\n",
    "            for x in soup2.find_all('span'):\n",
    "                if x.get('itemprop') == \"dateModified\":\n",
    "                    y = x.text[9:22]\n",
    "                    date.append(y)\n",
    "                    y = y.lstrip(':')\n",
    "                    y = y.rstrip('I')\n",
    "                    if (dateparser.parse(y) > d):\n",
    "                        print(n , y)\n",
    "    except:\n",
    "        p = 1\n"
   ]
  },
  {
   "cell_type": "code",
   "execution_count": null,
   "metadata": {},
   "outputs": [],
   "source": []
  },
  {
   "cell_type": "code",
   "execution_count": null,
   "metadata": {},
   "outputs": [],
   "source": []
  },
  {
   "cell_type": "code",
   "execution_count": null,
   "metadata": {},
   "outputs": [],
   "source": []
  }
 ],
 "metadata": {
  "kernelspec": {
   "display_name": "Python 3",
   "language": "python",
   "name": "python3"
  },
  "language_info": {
   "codemirror_mode": {
    "name": "ipython",
    "version": 3
   },
   "file_extension": ".py",
   "mimetype": "text/x-python",
   "name": "python",
   "nbconvert_exporter": "python",
   "pygments_lexer": "ipython3",
   "version": "3.6.5"
  }
 },
 "nbformat": 4,
 "nbformat_minor": 2
}
